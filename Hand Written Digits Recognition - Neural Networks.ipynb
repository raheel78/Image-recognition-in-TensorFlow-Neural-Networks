{
 "cells": [
  {
   "cell_type": "markdown",
   "metadata": {},
   "source": [
    "### Hand Written Digits Recognition using Convolutional Neural Networks\n",
    "\n",
    "This will be a step by step tutorial making use of jupyter notebook code cells to illustrate working of Google's TensorFlow library for the recognition of hand written images of digits. The data set was taken from MNIST which is well known source for these hand written images repository (http://yann.lecun.com/exdb/mnist/).\n",
    "\n",
    "The purpose of this notebook is to get some guided learning and note observations while applying nerual network learning mechanism using TensorFlow library.\n",
    "\n",
    "##### Some Primitive things to note down\n",
    "\n",
    "- The images are of hand written digits between 0 and 9 which puts the total possibilities as 10.\n",
    "- Images will also come with labels which are just mere markings of what each image is.\n",
    "- The data set will consists of following:\n",
    "    - Training Data Set\n",
    "    - Test Data Set\n",
    "    - Label Data Set\n",
    "    \n",
    "##### Hand Written Sketch (from MNIST)\n",
    "\n",
    "<img src=\"images/MNIST-Matrix.png\" style=\"width: 400px\" align=\"left\" /><br/><br/><br/><br/><br/><br/><br/><br/><br/>\n",
    "\n",
    "\n",
    "##### Training Image Illustration\n",
    "\n",
    "<img src=\"images/mnist-train-xs.png\" style=\"width: 400px\" align=\"left\" /><br/><br/><br/><br/><br/><br/><br/><br/><br/>\n",
    "\n",
    "##### Label Vectors\n",
    "\n",
    "<img src=\"images/mnist-train-ys.png\" style=\"width: 400px\" align=\"left\" />\n"
   ]
  },
  {
   "cell_type": "markdown",
   "metadata": {},
   "source": [
    "### What is Softmax Regression?\n",
    "\n",
    "Firstly, we need to understand what problem we are tyring to solve here?\n",
    "\n",
    "So, each image in this tutorial is any digit between 0 and 9 and we need to develop an algorithm which should be smart enough to look at the image and make some predictions about what might be that digit is. \n",
    "\n",
    "For example, pick an image of digit '9'. Now, the probability of sure evidence that this digit is actually nine would be 80%, while at the same time the probablity of taking it as digit '8' is 5% (since one loop above) and the rest of the probability can be anything which means that 15% chances of any other digit. \n",
    "\n",
    "- Probability of being the correct digit (i.e. '9') = 80%\n",
    "- Probability of digit read as eight ('8') = 5%\n",
    "- Probability for rest of anything else = 15% \n",
    "\n",
    "Remember that there is no sure shot rule of being a 100% correct guess.\n",
    "\n",
    "Softmax is a regression technique which is simple and fast enough to apply on types of problems like the one we are onto it. A softmax regression works in two steps:\n",
    "\n",
    "1. It will add up the evidence of our input (i.e. the image data) into the classes\n",
    "2. Later, it will convert this summed up evidence in to probabilities\n",
    "\n",
    "Now the question arises as how we will find out if our evidence is supporting for the image being in class and vice versa? We will do the pixel sum of weighted intensities and if the sum would be positive, that translates that our evidence is in the favor of the class. While, negative wieght will translate the fact that given input (image) is not the class.\n",
    "\n",
    "On top of that, we will add some bias ('b') to make sure that our evidence is independent of the provided input. \n",
    "\n",
    "Below is an illustration of images with two colors as RED and BLUE. Blue marks the positive evidence while red marks the negative evidence in the image:\n",
    "\n",
    "<br/><img src=\"images/softmax-weights.png\" style=\"width: 270px\" align=\"center\" /><br/><br/>\n",
    "\n",
    "Moving forward, if we have an image called 'x' and we are hunting for the class 'i' then the equation for this evidence would be:\n",
    "\n",
    "\n",
    "$$ \\text{evidence}_i = \\sum_j W_{i,~ j} x_j + b_i $$\n",
    "\n",
    "where $W_i$ is the weights and $b_i$ is the bias for class $i$, and $j$ is an index for summing over the pixels in our input image $x$.\n",
    "\n",
    "Then as second step, we will convert our evidence into probablities $y$ using softmax function.\n",
    "\n",
    "$$ y = \\text{softmax}(\\text{evidence}) $$\n",
    "\n",
    "\n",
    "\n"
   ]
  },
  {
   "cell_type": "code",
   "execution_count": 5,
   "metadata": {
    "collapsed": true
   },
   "outputs": [],
   "source": [
    "import tensorflow as tf"
   ]
  },
  {
   "cell_type": "code",
   "execution_count": 4,
   "metadata": {
    "collapsed": false
   },
   "outputs": [],
   "source": [
    "sess = tf.Session()\n"
   ]
  },
  {
   "cell_type": "code",
   "execution_count": null,
   "metadata": {
    "collapsed": true
   },
   "outputs": [],
   "source": []
  }
 ],
 "metadata": {
  "kernelspec": {
   "display_name": "Python 2",
   "language": "python",
   "name": "python2"
  },
  "language_info": {
   "codemirror_mode": {
    "name": "ipython",
    "version": 2
   },
   "file_extension": ".py",
   "mimetype": "text/x-python",
   "name": "python",
   "nbconvert_exporter": "python",
   "pygments_lexer": "ipython2",
   "version": "2.7.13"
  }
 },
 "nbformat": 4,
 "nbformat_minor": 1
}
